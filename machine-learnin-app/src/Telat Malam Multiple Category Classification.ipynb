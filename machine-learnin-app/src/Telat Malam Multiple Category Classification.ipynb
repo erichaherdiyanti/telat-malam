{
 "cells": [
  {
   "cell_type": "code",
   "execution_count": 82,
   "metadata": {},
   "outputs": [],
   "source": [
    "import os\n",
    "import numpy as np \n",
    "import pandas as pd\n",
    "import tensorflow as tf\n",
    "from tensorflow import keras\n",
    "from tensorflow.keras.layers import Dense, Embedding, LSTM, SpatialDropout1D\n",
    "from tensorflow.keras.models import Sequential\n",
    "from tensorflow.keras.preprocessing.text import Tokenizer\n",
    "from tensorflow.keras.preprocessing.sequence import pad_sequences\n",
    "from keras.utils.np_utils import to_categorical\n",
    "from sklearn.feature_extraction.text import CountVectorizer\n",
    "from sklearn.model_selection import train_test_split\n",
    "\n",
    "import matplotlib.pyplot as plt\n",
    "%matplotlib inline"
   ]
  },
  {
   "cell_type": "code",
   "execution_count": 83,
   "metadata": {},
   "outputs": [],
   "source": [
    "CURRENT_DIR = os.getcwd()\n",
    "BASE_DIR = os.path.dirname(CURRENT_DIR)\n",
    "data_dir = os.path.join(BASE_DIR, 'data')\n",
    "\n",
    "dataset_path = os.path.join(data_dir, 'telatmalambaru3.csv')\n",
    "DEFAULT_MODEL_NAME = 'multi'"
   ]
  },
  {
   "cell_type": "code",
   "execution_count": 84,
   "metadata": {},
   "outputs": [
    {
     "data": {
      "text/html": [
       "<div>\n",
       "<style scoped>\n",
       "    .dataframe tbody tr th:only-of-type {\n",
       "        vertical-align: middle;\n",
       "    }\n",
       "\n",
       "    .dataframe tbody tr th {\n",
       "        vertical-align: top;\n",
       "    }\n",
       "\n",
       "    .dataframe thead th {\n",
       "        text-align: right;\n",
       "    }\n",
       "</style>\n",
       "<table border=\"1\" class=\"dataframe\">\n",
       "  <thead>\n",
       "    <tr style=\"text-align: right;\">\n",
       "      <th></th>\n",
       "      <th>TITLE</th>\n",
       "      <th>CATEGORY</th>\n",
       "    </tr>\n",
       "  </thead>\n",
       "  <tbody>\n",
       "    <tr>\n",
       "      <th>0</th>\n",
       "      <td>SMP Matematika Bilangan</td>\n",
       "      <td>p</td>\n",
       "    </tr>\n",
       "    <tr>\n",
       "      <th>1</th>\n",
       "      <td>SMP Matematika Himpunan</td>\n",
       "      <td>p</td>\n",
       "    </tr>\n",
       "    <tr>\n",
       "      <th>2</th>\n",
       "      <td>SMP Matematika Bentuk Aljabar dan Operasinya</td>\n",
       "      <td>p</td>\n",
       "    </tr>\n",
       "    <tr>\n",
       "      <th>3</th>\n",
       "      <td>SMP Matematika Persamaan dan Pertidaksamaan Li...</td>\n",
       "      <td>p</td>\n",
       "    </tr>\n",
       "    <tr>\n",
       "      <th>4</th>\n",
       "      <td>SMP Matematika Perbandingan</td>\n",
       "      <td>p</td>\n",
       "    </tr>\n",
       "  </tbody>\n",
       "</table>\n",
       "</div>"
      ],
      "text/plain": [
       "                                               TITLE CATEGORY\n",
       "0                            SMP Matematika Bilangan        p\n",
       "1                            SMP Matematika Himpunan        p\n",
       "2       SMP Matematika Bentuk Aljabar dan Operasinya        p\n",
       "3  SMP Matematika Persamaan dan Pertidaksamaan Li...        p\n",
       "4                        SMP Matematika Perbandingan        p"
      ]
     },
     "execution_count": 84,
     "metadata": {},
     "output_type": "execute_result"
    }
   ],
   "source": [
    "df = pd.read_csv(dataset_path, usecols=['TITLE', 'CATEGORY'])\n",
    "df.head()"
   ]
  },
  {
   "cell_type": "code",
   "execution_count": 85,
   "metadata": {},
   "outputs": [
    {
     "data": {
      "text/plain": [
       "SMP Bahasa Indonesia Buku Fiksi dan Nonfiksi                         4\n",
       "SMA Matematika Wajib Perbandingan Trigonometri                       2\n",
       "SMA Matematika Peminatan Eksponen                                    2\n",
       "SMP Bahasa Indonesia Teks Ulasan                                     2\n",
       "SMA Bahasa Indonesia Teks Eksplanasi                                 2\n",
       "SMP Matematika Statistika                                            2\n",
       "SMA Matematika Wajib Permutasi dan Kombinasi                         2\n",
       "SMA Matematika Peminatan Kedudukan Titik dan Garis Pada Lingkaran    2\n",
       "SMA Matematika Peminatan Pertidaksamaan Eksponen dan Logaritma       2\n",
       "SMP IPA Klasifikasi Mahkluk Hidup                                    2\n",
       "Name: TITLE, dtype: int64"
      ]
     },
     "execution_count": 85,
     "metadata": {},
     "output_type": "execute_result"
    }
   ],
   "source": [
    "duplicate_title_distribution = df.TITLE.value_counts()[:10]\n",
    "duplicate_title_distribution"
   ]
  },
  {
   "cell_type": "code",
   "execution_count": 86,
   "metadata": {},
   "outputs": [
    {
     "data": {
      "text/plain": [
       "'SMP Bahasa Indonesia Buku Fiksi dan Nonfiksi'"
      ]
     },
     "execution_count": 86,
     "metadata": {},
     "output_type": "execute_result"
    }
   ],
   "source": [
    "most_common_title = duplicate_title_distribution.index[0]\n",
    "most_common_title"
   ]
  },
  {
   "cell_type": "code",
   "execution_count": 87,
   "metadata": {},
   "outputs": [
    {
     "data": {
      "text/html": [
       "<div>\n",
       "<style scoped>\n",
       "    .dataframe tbody tr th:only-of-type {\n",
       "        vertical-align: middle;\n",
       "    }\n",
       "\n",
       "    .dataframe tbody tr th {\n",
       "        vertical-align: top;\n",
       "    }\n",
       "\n",
       "    .dataframe thead th {\n",
       "        text-align: right;\n",
       "    }\n",
       "</style>\n",
       "<table border=\"1\" class=\"dataframe\">\n",
       "  <thead>\n",
       "    <tr style=\"text-align: right;\">\n",
       "      <th></th>\n",
       "      <th>TITLE</th>\n",
       "      <th>CATEGORY</th>\n",
       "    </tr>\n",
       "  </thead>\n",
       "  <tbody>\n",
       "    <tr>\n",
       "      <th>126</th>\n",
       "      <td>SMP Bahasa Indonesia Buku Fiksi dan Nonfiksi</td>\n",
       "      <td>p</td>\n",
       "    </tr>\n",
       "    <tr>\n",
       "      <th>127</th>\n",
       "      <td>SMP Bahasa Indonesia Buku Fiksi dan Nonfiksi</td>\n",
       "      <td>p</td>\n",
       "    </tr>\n",
       "    <tr>\n",
       "      <th>138</th>\n",
       "      <td>SMP Bahasa Indonesia Buku Fiksi dan Nonfiksi</td>\n",
       "      <td>p</td>\n",
       "    </tr>\n",
       "    <tr>\n",
       "      <th>139</th>\n",
       "      <td>SMP Bahasa Indonesia Buku Fiksi dan Nonfiksi</td>\n",
       "      <td>p</td>\n",
       "    </tr>\n",
       "  </tbody>\n",
       "</table>\n",
       "</div>"
      ],
      "text/plain": [
       "                                            TITLE CATEGORY\n",
       "126  SMP Bahasa Indonesia Buku Fiksi dan Nonfiksi        p\n",
       "127  SMP Bahasa Indonesia Buku Fiksi dan Nonfiksi        p\n",
       "138  SMP Bahasa Indonesia Buku Fiksi dan Nonfiksi        p\n",
       "139  SMP Bahasa Indonesia Buku Fiksi dan Nonfiksi        p"
      ]
     },
     "execution_count": 87,
     "metadata": {},
     "output_type": "execute_result"
    }
   ],
   "source": [
    "df[df['TITLE'].str.contains(most_common_title)][:5]"
   ]
  },
  {
   "cell_type": "code",
   "execution_count": 88,
   "metadata": {},
   "outputs": [
    {
     "data": {
      "text/html": [
       "<div>\n",
       "<style scoped>\n",
       "    .dataframe tbody tr th:only-of-type {\n",
       "        vertical-align: middle;\n",
       "    }\n",
       "\n",
       "    .dataframe tbody tr th {\n",
       "        vertical-align: top;\n",
       "    }\n",
       "\n",
       "    .dataframe thead th {\n",
       "        text-align: right;\n",
       "    }\n",
       "</style>\n",
       "<table border=\"1\" class=\"dataframe\">\n",
       "  <thead>\n",
       "    <tr style=\"text-align: right;\">\n",
       "      <th></th>\n",
       "      <th>TITLE</th>\n",
       "      <th>CATEGORY</th>\n",
       "    </tr>\n",
       "  </thead>\n",
       "  <tbody>\n",
       "  </tbody>\n",
       "</table>\n",
       "</div>"
      ],
      "text/plain": [
       "Empty DataFrame\n",
       "Columns: [TITLE, CATEGORY]\n",
       "Index: []"
      ]
     },
     "execution_count": 88,
     "metadata": {},
     "output_type": "execute_result"
    }
   ],
   "source": [
    "df = df.drop_duplicates(subset='TITLE', keep=False)\n",
    "df[df['TITLE'].str.contains(most_common_title)]"
   ]
  },
  {
   "cell_type": "code",
   "execution_count": 89,
   "metadata": {},
   "outputs": [
    {
     "data": {
      "text/plain": [
       "a    165\n",
       "u    142\n",
       "p    120\n",
       "s     65\n",
       "Name: CATEGORY, dtype: int64"
      ]
     },
     "execution_count": 89,
     "metadata": {},
     "output_type": "execute_result"
    }
   ],
   "source": [
    "category_dict = {\n",
    "    'p': 'smp', \n",
    "    'u': 'smaumum', \n",
    "    'a': 'smaipa', \n",
    "    's': 'smaips'\n",
    "}\n",
    "df.CATEGORY.value_counts()"
   ]
  },
  {
   "cell_type": "code",
   "execution_count": 90,
   "metadata": {},
   "outputs": [],
   "source": [
    "category_labels = {\n",
    "    'p': 'smp', \n",
    "    'u': 'smaumum', \n",
    "    'a': 'smaipa', \n",
    "    's': 'smaips'\n",
    "}"
   ]
  },
  {
   "cell_type": "code",
   "execution_count": 91,
   "metadata": {},
   "outputs": [
    {
     "data": {
      "text/html": [
       "<div>\n",
       "<style scoped>\n",
       "    .dataframe tbody tr th:only-of-type {\n",
       "        vertical-align: middle;\n",
       "    }\n",
       "\n",
       "    .dataframe tbody tr th {\n",
       "        vertical-align: top;\n",
       "    }\n",
       "\n",
       "    .dataframe thead th {\n",
       "        text-align: right;\n",
       "    }\n",
       "</style>\n",
       "<table border=\"1\" class=\"dataframe\">\n",
       "  <thead>\n",
       "    <tr style=\"text-align: right;\">\n",
       "      <th></th>\n",
       "      <th>TITLE</th>\n",
       "      <th>CATEGORY</th>\n",
       "      <th>LABEL</th>\n",
       "    </tr>\n",
       "  </thead>\n",
       "  <tbody>\n",
       "    <tr>\n",
       "      <th>51</th>\n",
       "      <td>SMP Bahasa Indonesia Struktur Teks Persuasi</td>\n",
       "      <td>p</td>\n",
       "      <td>0</td>\n",
       "    </tr>\n",
       "    <tr>\n",
       "      <th>168</th>\n",
       "      <td>SMA Fisika Gelombang Cahaya</td>\n",
       "      <td>a</td>\n",
       "      <td>0</td>\n",
       "    </tr>\n",
       "    <tr>\n",
       "      <th>29</th>\n",
       "      <td>SMP IPA Zat Aditif dan Zat Adiktif</td>\n",
       "      <td>p</td>\n",
       "      <td>0</td>\n",
       "    </tr>\n",
       "    <tr>\n",
       "      <th>32</th>\n",
       "      <td>SMP IPA Asam Basa dan Garam</td>\n",
       "      <td>p</td>\n",
       "      <td>0</td>\n",
       "    </tr>\n",
       "    <tr>\n",
       "      <th>71</th>\n",
       "      <td>SMA Matematika Wajib Subtitusi Dasar</td>\n",
       "      <td>u</td>\n",
       "      <td>0</td>\n",
       "    </tr>\n",
       "  </tbody>\n",
       "</table>\n",
       "</div>"
      ],
      "text/plain": [
       "                                           TITLE CATEGORY  LABEL\n",
       "51   SMP Bahasa Indonesia Struktur Teks Persuasi        p      0\n",
       "168                  SMA Fisika Gelombang Cahaya        a      0\n",
       "29            SMP IPA Zat Aditif dan Zat Adiktif        p      0\n",
       "32                   SMP IPA Asam Basa dan Garam        p      0\n",
       "71          SMA Matematika Wajib Subtitusi Dasar        u      0"
      ]
     },
     "execution_count": 91,
     "metadata": {},
     "output_type": "execute_result"
    }
   ],
   "source": [
    "max_num_of_labels = df.CATEGORY.value_counts()[-1]\n",
    "data_df = df.copy()\n",
    "shuffled_df = data_df.reindex(np.random.permutation(data_df.index))\\\n",
    "\n",
    "p = shuffled_df[shuffled_df['CATEGORY'] == 'p'][:max_num_of_labels]\n",
    "u = shuffled_df[shuffled_df['CATEGORY'] == 'u'][:max_num_of_labels]\n",
    "a = shuffled_df[shuffled_df['CATEGORY'] == 'a'][:max_num_of_labels]\n",
    "s = shuffled_df[shuffled_df['CATEGORY'] == 's'][:max_num_of_labels]\n",
    "\n",
    "concated_df = pd.concat([p,u,a,s], ignore_index=True)\n",
    "concated_df = concated_df.reindex(np.random.permutation(concated_df.index))\n",
    "concated_df['LABEL'] = 0\n",
    "concated_df.head()"
   ]
  },
  {
   "cell_type": "code",
   "execution_count": 92,
   "metadata": {},
   "outputs": [
    {
     "name": "stdout",
     "output_type": "stream",
     "text": [
      "51     0\n",
      "168    2\n",
      "29     0\n",
      "32     0\n",
      "71     1\n",
      "248    3\n",
      "242    3\n",
      "66     1\n",
      "43     0\n",
      "241    3\n",
      "Name: LABEL, dtype: int64\n",
      "[[1. 0. 0. 0.]\n",
      " [0. 0. 1. 0.]\n",
      " [1. 0. 0. 0.]\n",
      " [1. 0. 0. 0.]\n",
      " [0. 1. 0. 0.]\n",
      " [0. 0. 0. 1.]\n",
      " [0. 0. 0. 1.]\n",
      " [0. 1. 0. 0.]\n",
      " [1. 0. 0. 0.]\n",
      " [0. 0. 0. 1.]]\n"
     ]
    },
    {
     "data": {
      "text/plain": [
       "'\\n [1. 0. 0. 0.] p\\n [0. 1. 0. 0.] u\\n [0. 0. 1. 0.] a\\n [0. 0. 0. 1.] s\\n'"
      ]
     },
     "execution_count": 92,
     "metadata": {},
     "output_type": "execute_result"
    }
   ],
   "source": [
    "concated_df.loc[concated_df['CATEGORY'] == 'p', 'LABEL'] = 0\n",
    "concated_df.loc[concated_df['CATEGORY'] == 'u', 'LABEL'] = 1\n",
    "concated_df.loc[concated_df['CATEGORY'] == 'a', 'LABEL'] = 2\n",
    "concated_df.loc[concated_df['CATEGORY'] == 's', 'LABEL'] = 3\n",
    "print(concated_df['LABEL'][:10])\n",
    "labels = to_categorical(concated_df['LABEL'], num_classes=4)\n",
    "print(labels[:10])\n",
    "if 'CATEGORY' in concated_df.keys():\n",
    "    concated_df = concated_df.drop(['CATEGORY'], axis=1)\n",
    "'''\n",
    " [1. 0. 0. 0.] p\n",
    " [0. 1. 0. 0.] u\n",
    " [0. 0. 1. 0.] a\n",
    " [0. 0. 0. 1.] s\n",
    "'''"
   ]
  },
  {
   "cell_type": "code",
   "execution_count": 93,
   "metadata": {},
   "outputs": [
    {
     "data": {
      "text/html": [
       "<div>\n",
       "<style scoped>\n",
       "    .dataframe tbody tr th:only-of-type {\n",
       "        vertical-align: middle;\n",
       "    }\n",
       "\n",
       "    .dataframe tbody tr th {\n",
       "        vertical-align: top;\n",
       "    }\n",
       "\n",
       "    .dataframe thead th {\n",
       "        text-align: right;\n",
       "    }\n",
       "</style>\n",
       "<table border=\"1\" class=\"dataframe\">\n",
       "  <thead>\n",
       "    <tr style=\"text-align: right;\">\n",
       "      <th></th>\n",
       "      <th>TITLE</th>\n",
       "      <th>LABEL</th>\n",
       "    </tr>\n",
       "  </thead>\n",
       "  <tbody>\n",
       "    <tr>\n",
       "      <th>51</th>\n",
       "      <td>SMP Bahasa Indonesia Struktur Teks Persuasi</td>\n",
       "      <td>0</td>\n",
       "    </tr>\n",
       "    <tr>\n",
       "      <th>168</th>\n",
       "      <td>SMA Fisika Gelombang Cahaya</td>\n",
       "      <td>2</td>\n",
       "    </tr>\n",
       "    <tr>\n",
       "      <th>29</th>\n",
       "      <td>SMP IPA Zat Aditif dan Zat Adiktif</td>\n",
       "      <td>0</td>\n",
       "    </tr>\n",
       "    <tr>\n",
       "      <th>32</th>\n",
       "      <td>SMP IPA Asam Basa dan Garam</td>\n",
       "      <td>0</td>\n",
       "    </tr>\n",
       "    <tr>\n",
       "      <th>71</th>\n",
       "      <td>SMA Matematika Wajib Subtitusi Dasar</td>\n",
       "      <td>1</td>\n",
       "    </tr>\n",
       "  </tbody>\n",
       "</table>\n",
       "</div>"
      ],
      "text/plain": [
       "                                           TITLE  LABEL\n",
       "51   SMP Bahasa Indonesia Struktur Teks Persuasi      0\n",
       "168                  SMA Fisika Gelombang Cahaya      2\n",
       "29            SMP IPA Zat Aditif dan Zat Adiktif      0\n",
       "32                   SMP IPA Asam Basa dan Garam      0\n",
       "71          SMA Matematika Wajib Subtitusi Dasar      1"
      ]
     },
     "execution_count": 93,
     "metadata": {},
     "output_type": "execute_result"
    }
   ],
   "source": [
    "concated_df.head()"
   ]
  },
  {
   "cell_type": "code",
   "execution_count": 94,
   "metadata": {},
   "outputs": [],
   "source": [
    "n_most_common_words = 8000\n",
    "max_len = 130\n",
    "token_filter = '!\"#$%&()*+,-./:;<=>?@[\\]^_`{|}~'\n",
    "tokenizer = Tokenizer(num_words=n_most_common_words, filters=token_filter, lower=True)\n",
    "tokenizer.fit_on_texts(concated_df['TITLE'].values)"
   ]
  },
  {
   "cell_type": "code",
   "execution_count": 95,
   "metadata": {},
   "outputs": [
    {
     "name": "stdout",
     "output_type": "stream",
     "text": [
      "Found 466 unique tokens.\n"
     ]
    }
   ],
   "source": [
    "sequences = tokenizer.texts_to_sequences(concated_df['TITLE'].values)\n",
    "word_index = tokenizer.word_index\n",
    "print('Found %s unique tokens.' % len(word_index))"
   ]
  },
  {
   "cell_type": "code",
   "execution_count": 96,
   "metadata": {},
   "outputs": [],
   "source": [
    "X = pad_sequences(sequences, maxlen=max_len)"
   ]
  },
  {
   "cell_type": "code",
   "execution_count": 97,
   "metadata": {},
   "outputs": [],
   "source": [
    "X_train, X_test, y_train, y_test = train_test_split(X , labels, test_size=0.25, random_state=42)"
   ]
  },
  {
   "cell_type": "code",
   "execution_count": 98,
   "metadata": {},
   "outputs": [
    {
     "data": {
      "text/plain": [
       "array([[1., 0., 0., 0.],\n",
       "       [0., 0., 1., 0.]], dtype=float32)"
      ]
     },
     "execution_count": 98,
     "metadata": {},
     "output_type": "execute_result"
    }
   ],
   "source": [
    "epochs = 50\n",
    "emb_dim = 200\n",
    "batch_size = 256\n",
    "labels[:2]"
   ]
  },
  {
   "cell_type": "code",
   "execution_count": 99,
   "metadata": {},
   "outputs": [
    {
     "name": "stdout",
     "output_type": "stream",
     "text": [
      "((195, 130), (195, 4), (65, 130), (65, 4))\n"
     ]
    }
   ],
   "source": [
    "print((X_train.shape, y_train.shape, X_test.shape, y_test.shape))"
   ]
  },
  {
   "cell_type": "code",
   "execution_count": 100,
   "metadata": {},
   "outputs": [
    {
     "name": "stdout",
     "output_type": "stream",
     "text": [
      "Model: \"sequential\"\n",
      "_________________________________________________________________\n",
      "Layer (type)                 Output Shape              Param #   \n",
      "=================================================================\n",
      "embedding (Embedding)        (None, 130, 200)          1600000   \n",
      "_________________________________________________________________\n",
      "spatial_dropout1d (SpatialDr (None, 130, 200)          0         \n",
      "_________________________________________________________________\n",
      "lstm (LSTM)                  (None, 64)                67840     \n",
      "_________________________________________________________________\n",
      "dense (Dense)                (None, 4)                 260       \n",
      "=================================================================\n",
      "Total params: 1,668,100\n",
      "Trainable params: 1,668,100\n",
      "Non-trainable params: 0\n",
      "_________________________________________________________________\n",
      "None\n"
     ]
    }
   ],
   "source": [
    "model = Sequential()\n",
    "model.add(Embedding(n_most_common_words, emb_dim, input_length=X.shape[1]))\n",
    "model.add(SpatialDropout1D(0.7))\n",
    "model.add(LSTM(64, dropout=0.7, recurrent_dropout=0.7))\n",
    "model.add(Dense(4, activation='softmax'))\n",
    "model.compile(optimizer='adam', loss='categorical_crossentropy', metrics=['accuracy'])\n",
    "print(model.summary())"
   ]
  },
  {
   "cell_type": "code",
   "execution_count": 101,
   "metadata": {},
   "outputs": [
    {
     "name": "stdout",
     "output_type": "stream",
     "text": [
      "Epoch 1/50\n",
      "1/1 [==============================] - 4s 4s/step - loss: 1.3836 - accuracy: 0.2628 - val_loss: 1.3849 - val_accuracy: 0.1538\n",
      "Epoch 2/50\n",
      "1/1 [==============================] - 0s 387ms/step - loss: 1.3792 - accuracy: 0.3333 - val_loss: 1.3832 - val_accuracy: 0.1538\n",
      "Epoch 3/50\n",
      "1/1 [==============================] - 0s 437ms/step - loss: 1.3721 - accuracy: 0.3269 - val_loss: 1.3817 - val_accuracy: 0.1538\n",
      "Epoch 4/50\n",
      "1/1 [==============================] - 0s 387ms/step - loss: 1.3765 - accuracy: 0.3077 - val_loss: 1.3801 - val_accuracy: 0.1282\n",
      "Epoch 5/50\n",
      "1/1 [==============================] - 0s 360ms/step - loss: 1.3719 - accuracy: 0.3269 - val_loss: 1.3784 - val_accuracy: 0.1282\n",
      "Epoch 6/50\n",
      "1/1 [==============================] - 0s 379ms/step - loss: 1.3572 - accuracy: 0.4103 - val_loss: 1.3765 - val_accuracy: 0.1282\n",
      "Epoch 7/50\n",
      "1/1 [==============================] - 0s 397ms/step - loss: 1.3546 - accuracy: 0.4359 - val_loss: 1.3744 - val_accuracy: 0.1282\n",
      "Epoch 8/50\n",
      "1/1 [==============================] - 0s 370ms/step - loss: 1.3459 - accuracy: 0.4167 - val_loss: 1.3721 - val_accuracy: 0.1282\n",
      "Epoch 9/50\n",
      "1/1 [==============================] - 0s 367ms/step - loss: 1.3461 - accuracy: 0.4679 - val_loss: 1.3695 - val_accuracy: 0.1282\n",
      "Epoch 10/50\n",
      "1/1 [==============================] - 0s 363ms/step - loss: 1.3472 - accuracy: 0.3846 - val_loss: 1.3668 - val_accuracy: 0.1282\n",
      "Epoch 11/50\n",
      "1/1 [==============================] - 0s 373ms/step - loss: 1.3369 - accuracy: 0.4295 - val_loss: 1.3635 - val_accuracy: 0.1538\n",
      "Epoch 12/50\n",
      "1/1 [==============================] - 0s 348ms/step - loss: 1.3350 - accuracy: 0.4231 - val_loss: 1.3599 - val_accuracy: 0.1538\n",
      "Epoch 13/50\n",
      "1/1 [==============================] - 0s 358ms/step - loss: 1.3136 - accuracy: 0.4103 - val_loss: 1.3556 - val_accuracy: 0.1538\n",
      "Epoch 14/50\n",
      "1/1 [==============================] - 0s 364ms/step - loss: 1.3102 - accuracy: 0.4808 - val_loss: 1.3508 - val_accuracy: 0.1795\n",
      "Epoch 15/50\n",
      "1/1 [==============================] - 0s 344ms/step - loss: 1.3139 - accuracy: 0.4551 - val_loss: 1.3455 - val_accuracy: 0.1795\n",
      "Epoch 16/50\n",
      "1/1 [==============================] - 0s 367ms/step - loss: 1.2977 - accuracy: 0.5064 - val_loss: 1.3395 - val_accuracy: 0.2051\n",
      "Epoch 17/50\n",
      "1/1 [==============================] - 0s 387ms/step - loss: 1.2942 - accuracy: 0.5385 - val_loss: 1.3326 - val_accuracy: 0.2564\n",
      "Epoch 18/50\n",
      "1/1 [==============================] - 0s 338ms/step - loss: 1.2807 - accuracy: 0.5513 - val_loss: 1.3251 - val_accuracy: 0.3077\n",
      "Epoch 19/50\n",
      "1/1 [==============================] - 0s 369ms/step - loss: 1.2730 - accuracy: 0.5962 - val_loss: 1.3167 - val_accuracy: 0.3333\n",
      "Epoch 20/50\n",
      "1/1 [==============================] - 0s 390ms/step - loss: 1.2655 - accuracy: 0.5705 - val_loss: 1.3072 - val_accuracy: 0.4359\n",
      "Epoch 21/50\n",
      "1/1 [==============================] - 0s 337ms/step - loss: 1.2580 - accuracy: 0.6090 - val_loss: 1.2969 - val_accuracy: 0.4872\n",
      "Epoch 22/50\n",
      "1/1 [==============================] - 0s 368ms/step - loss: 1.2459 - accuracy: 0.6090 - val_loss: 1.2857 - val_accuracy: 0.5128\n",
      "Epoch 23/50\n",
      "1/1 [==============================] - 0s 401ms/step - loss: 1.2247 - accuracy: 0.6603 - val_loss: 1.2731 - val_accuracy: 0.5641\n",
      "Epoch 24/50\n",
      "1/1 [==============================] - 0s 360ms/step - loss: 1.2113 - accuracy: 0.7308 - val_loss: 1.2594 - val_accuracy: 0.6154\n",
      "Epoch 25/50\n",
      "1/1 [==============================] - 0s 359ms/step - loss: 1.2051 - accuracy: 0.7179 - val_loss: 1.2446 - val_accuracy: 0.6154\n",
      "Epoch 26/50\n",
      "1/1 [==============================] - 0s 372ms/step - loss: 1.1841 - accuracy: 0.7628 - val_loss: 1.2287 - val_accuracy: 0.6923\n",
      "Epoch 27/50\n",
      "1/1 [==============================] - 0s 390ms/step - loss: 1.1754 - accuracy: 0.7885 - val_loss: 1.2120 - val_accuracy: 0.7436\n",
      "Epoch 28/50\n",
      "1/1 [==============================] - 0s 389ms/step - loss: 1.1533 - accuracy: 0.7756 - val_loss: 1.1943 - val_accuracy: 0.8205\n",
      "Epoch 29/50\n",
      "1/1 [==============================] - 0s 379ms/step - loss: 1.1445 - accuracy: 0.7500 - val_loss: 1.1753 - val_accuracy: 0.8462\n",
      "Epoch 30/50\n",
      "1/1 [==============================] - 0s 359ms/step - loss: 1.1069 - accuracy: 0.7949 - val_loss: 1.1558 - val_accuracy: 0.8462\n",
      "Epoch 31/50\n",
      "1/1 [==============================] - 0s 354ms/step - loss: 1.0653 - accuracy: 0.8141 - val_loss: 1.1351 - val_accuracy: 0.8718\n",
      "Epoch 32/50\n",
      "1/1 [==============================] - 0s 379ms/step - loss: 1.0567 - accuracy: 0.8141 - val_loss: 1.1144 - val_accuracy: 0.8462\n",
      "Epoch 33/50\n",
      "1/1 [==============================] - 0s 355ms/step - loss: 1.0338 - accuracy: 0.8205 - val_loss: 1.0918 - val_accuracy: 0.8718\n",
      "Epoch 34/50\n",
      "1/1 [==============================] - 0s 347ms/step - loss: 1.0171 - accuracy: 0.7885 - val_loss: 1.0679 - val_accuracy: 0.8718\n",
      "Epoch 35/50\n",
      "1/1 [==============================] - 0s 387ms/step - loss: 0.9781 - accuracy: 0.8269 - val_loss: 1.0435 - val_accuracy: 0.8718\n",
      "Epoch 36/50\n",
      "1/1 [==============================] - 0s 360ms/step - loss: 0.9509 - accuracy: 0.7949 - val_loss: 1.0163 - val_accuracy: 0.8974\n",
      "Epoch 37/50\n",
      "1/1 [==============================] - 0s 334ms/step - loss: 0.9399 - accuracy: 0.7949 - val_loss: 0.9884 - val_accuracy: 0.8718\n",
      "Epoch 38/50\n",
      "1/1 [==============================] - 0s 384ms/step - loss: 0.8904 - accuracy: 0.8077 - val_loss: 0.9525 - val_accuracy: 0.8718\n",
      "Epoch 39/50\n",
      "1/1 [==============================] - 0s 354ms/step - loss: 0.8948 - accuracy: 0.7756 - val_loss: 0.9060 - val_accuracy: 0.8718\n",
      "Epoch 40/50\n",
      "1/1 [==============================] - 0s 321ms/step - loss: 0.8638 - accuracy: 0.8205 - val_loss: 0.8632 - val_accuracy: 0.8718\n",
      "Epoch 41/50\n",
      "1/1 [==============================] - 0s 368ms/step - loss: 0.7776 - accuracy: 0.8526 - val_loss: 0.8262 - val_accuracy: 0.9231\n",
      "Epoch 42/50\n",
      "1/1 [==============================] - 0s 347ms/step - loss: 0.7934 - accuracy: 0.8205 - val_loss: 0.7903 - val_accuracy: 0.9231\n",
      "Epoch 43/50\n",
      "1/1 [==============================] - 0s 318ms/step - loss: 0.7341 - accuracy: 0.8654 - val_loss: 0.7557 - val_accuracy: 0.9231\n",
      "Epoch 44/50\n",
      "1/1 [==============================] - 0s 362ms/step - loss: 0.7272 - accuracy: 0.9167 - val_loss: 0.7253 - val_accuracy: 0.9231\n",
      "Epoch 45/50\n",
      "1/1 [==============================] - 0s 380ms/step - loss: 0.6615 - accuracy: 0.9231 - val_loss: 0.6970 - val_accuracy: 0.9231\n",
      "Epoch 46/50\n",
      "1/1 [==============================] - 0s 337ms/step - loss: 0.6616 - accuracy: 0.8974 - val_loss: 0.6707 - val_accuracy: 0.9231\n",
      "Epoch 47/50\n",
      "1/1 [==============================] - 0s 389ms/step - loss: 0.6000 - accuracy: 0.9231 - val_loss: 0.6423 - val_accuracy: 0.9487\n",
      "Epoch 48/50\n",
      "1/1 [==============================] - 0s 347ms/step - loss: 0.5792 - accuracy: 0.9359 - val_loss: 0.6102 - val_accuracy: 0.9487\n",
      "Epoch 49/50\n",
      "1/1 [==============================] - 0s 325ms/step - loss: 0.5830 - accuracy: 0.9167 - val_loss: 0.5784 - val_accuracy: 0.9487\n",
      "Epoch 50/50\n",
      "1/1 [==============================] - 0s 374ms/step - loss: 0.5486 - accuracy: 0.9231 - val_loss: 0.5402 - val_accuracy: 0.9487\n"
     ]
    }
   ],
   "source": [
    "training = model.fit(X_train, y_train, epochs=epochs, batch_size=batch_size,validation_split=0.2)"
   ]
  },
  {
   "cell_type": "code",
   "execution_count": 103,
   "metadata": {},
   "outputs": [
    {
     "name": "stdout",
     "output_type": "stream",
     "text": [
      "3/3 [==============================] - 0s 14ms/step - loss: 0.5426 - accuracy: 0.9692\n",
      "Test set\n",
      "  Loss: 0.543\n",
      "  Accuracy: 0.969\n"
     ]
    }
   ],
   "source": [
    "accr = model.evaluate(X_test, y_test)\n",
    "print('Test set\\n  Loss: {:0.3f}\\n  Accuracy: {:0.3f}'.format(accr[0],accr[1]))"
   ]
  },
  {
   "cell_type": "code",
   "execution_count": 104,
   "metadata": {},
   "outputs": [],
   "source": [
    "accuracy = training.history['accuracy']\n",
    "val_accuracy = training.history['val_accuracy']\n",
    "loss = training.history['loss']\n",
    "val_loss = training.history['val_loss']"
   ]
  },
  {
   "cell_type": "code",
   "execution_count": 105,
   "metadata": {},
   "outputs": [
    {
     "data": {
      "image/png": "[encoded data removed]",
      "text/plain": [
       "<Figure size 432x288 with 1 Axes>"
      ]
     },
     "metadata": {
      "needs_background": "light"
     },
     "output_type": "display_data"
    },
    {
     "data": {
      "image/png": "[encoded data removed]",
      "text/plain": [
       "<Figure size 432x288 with 1 Axes>"
      ]
     },
     "metadata": {
      "needs_background": "light"
     },
     "output_type": "display_data"
    }
   ],
   "source": [
    "epochs = range(1, len(accuracy) + 1)\n",
    "\n",
    "plt.plot(epochs, accuracy, 'bo', label='Training accuracy')\n",
    "plt.plot(epochs, val_accuracy, 'b', label='Validation accuracy')\n",
    "plt.title('Training and validation accuracy')\n",
    "plt.legend()\n",
    "\n",
    "plt.figure()\n",
    "\n",
    "plt.plot(epochs, loss, 'bo', label='Training loss')\n",
    "plt.plot(epochs, val_loss, 'b', label='Validation loss')\n",
    "plt.title('Training and validation loss')\n",
    "plt.legend()\n",
    "\n",
    "plt.show()"
   ]
  },
  {
   "cell_type": "code",
   "execution_count": 106,
   "metadata": {},
   "outputs": [
    {
     "name": "stdout",
     "output_type": "stream",
     "text": [
      "[[0.51517224 0.315771   0.12057854 0.04847825]] smp\n"
     ]
    }
   ],
   "source": [
    "txt = [\"SMP Matematika Peluang\"]\n",
    "seq = tokenizer.texts_to_sequences(txt)\n",
    "padded = pad_sequences(seq, maxlen=max_len)\n",
    "pred = model.predict(padded)\n",
    "labels = ['smp', 'smaumum', 'smaipa', 'smaips']\n",
    "print(pred, labels[np.argmax(pred)])"
   ]
  },
  {
   "cell_type": "code",
   "execution_count": null,
   "metadata": {},
   "outputs": [],
   "source": []
  },
  {
   "cell_type": "code",
   "execution_count": 107,
   "metadata": {},
   "outputs": [],
   "source": [
    "def extract_label(index):\n",
    "    '''\n",
    "    The labels correspond to exact label indices, in other words, the \n",
    "    order is absolutely important.\n",
    "    '''\n",
    "    labels = ['smp', 'smaumum', 'smaipa', 'smaips']\n",
    "    return labels[index]"
   ]
  },
  {
   "cell_type": "code",
   "execution_count": 108,
   "metadata": {},
   "outputs": [],
   "source": [
    "def predict(text, model_klass=model):\n",
    "    seq = tokenizer.texts_to_sequences([text])\n",
    "    padded = pad_sequences(seq, maxlen=max_len)\n",
    "    pred = model_klass.predict(padded)\n",
    "    top_prediction_index = np.argmax(pred)\n",
    "    predicted_label = extract_label(top_prediction_index)\n",
    "    predictions = pred.tolist()[0]\n",
    "    extracted_predictions = [{extract_label(i):\"%.2f%%\"%(x*100)} for i, x in enumerate(predictions)]\n",
    "    top_percent = \"%.2f%%\"% (predictions[top_prediction_index] * 100)\n",
    "    print(f\"{text}\\t\\t{top_percent} {predicted_label}\")\n",
    "    return extracted_predictions"
   ]
  },
  {
   "cell_type": "code",
   "execution_count": 110,
   "metadata": {},
   "outputs": [
    {
     "name": "stdout",
     "output_type": "stream",
     "text": [
      "SMA Fisika Kimia Biologi\t\t76.25% smaipa\n"
     ]
    },
    {
     "data": {
      "text/plain": [
       "[{'smp': '3.09%'},\n",
       " {'smaumum': '6.49%'},\n",
       " {'smaipa': '76.25%'},\n",
       " {'smaips': '14.17%'}]"
      ]
     },
     "execution_count": 110,
     "metadata": {},
     "output_type": "execute_result"
    }
   ],
   "source": [
    "predict(\"SMA Fisika Kimia Biologi\")"
   ]
  },
  {
   "cell_type": "code",
   "execution_count": 111,
   "metadata": {},
   "outputs": [
    {
     "name": "stdout",
     "output_type": "stream",
     "text": [
      "SMA Bahasa Inggris Bahasa Indonesia Matematika Wajib\t\t83.08% smaumum\n"
     ]
    },
    {
     "data": {
      "text/plain": [
       "[{'smp': '15.52%'},\n",
       " {'smaumum': '83.08%'},\n",
       " {'smaipa': '0.92%'},\n",
       " {'smaips': '0.48%'}]"
      ]
     },
     "execution_count": 111,
     "metadata": {},
     "output_type": "execute_result"
    }
   ],
   "source": [
    "predict(\"SMA Bahasa Inggris Bahasa Indonesia Matematika Wajib\")"
   ]
  },
  {
   "cell_type": "code",
   "execution_count": 112,
   "metadata": {},
   "outputs": [
    {
     "name": "stdout",
     "output_type": "stream",
     "text": [
      "SMA Kimia Dan Ekonomi Sosiologi\t\t54.24% smaips\n"
     ]
    },
    {
     "data": {
      "text/plain": [
       "[{'smp': '3.98%'},\n",
       " {'smaumum': '7.77%'},\n",
       " {'smaipa': '34.02%'},\n",
       " {'smaips': '54.24%'}]"
      ]
     },
     "execution_count": 112,
     "metadata": {},
     "output_type": "execute_result"
    }
   ],
   "source": [
    "predict(\"SMA Kimia Dan Ekonomi Sosiologi\")"
   ]
  },
  {
   "cell_type": "code",
   "execution_count": 113,
   "metadata": {},
   "outputs": [
    {
     "name": "stdout",
     "output_type": "stream",
     "text": [
      "Sejarah Ekonomi dan Sosiologi\t\t53.95% smaips\n"
     ]
    },
    {
     "data": {
      "text/plain": [
       "[{'smp': '8.70%'},\n",
       " {'smaumum': '11.92%'},\n",
       " {'smaipa': '25.43%'},\n",
       " {'smaips': '53.95%'}]"
      ]
     },
     "execution_count": 113,
     "metadata": {},
     "output_type": "execute_result"
    }
   ],
   "source": [
    "predict(\"Sejarah Ekonomi dan Sosiologi\")"
   ]
  },
  {
   "cell_type": "code",
   "execution_count": 114,
   "metadata": {},
   "outputs": [
    {
     "name": "stdout",
     "output_type": "stream",
     "text": [
      "Matematika Fisika Kimia Sosiologi\t\t45.12% smaipa\n"
     ]
    },
    {
     "data": {
      "text/plain": [
       "[{'smp': '16.62%'},\n",
       " {'smaumum': '19.37%'},\n",
       " {'smaipa': '45.12%'},\n",
       " {'smaips': '18.88%'}]"
      ]
     },
     "execution_count": 114,
     "metadata": {},
     "output_type": "execute_result"
    }
   ],
   "source": [
    "predict(\"Matematika Fisika Kimia Sosiologi\")"
   ]
  },
  {
   "cell_type": "code",
   "execution_count": 115,
   "metadata": {},
   "outputs": [
    {
     "name": "stdout",
     "output_type": "stream",
     "text": [
      "SD Belajar Matematika Dasar\t\t32.02% smaumum\n"
     ]
    },
    {
     "data": {
      "text/plain": [
       "[{'smp': '18.31%'},\n",
       " {'smaumum': '32.02%'},\n",
       " {'smaipa': '31.76%'},\n",
       " {'smaips': '17.91%'}]"
      ]
     },
     "execution_count": 115,
     "metadata": {},
     "output_type": "execute_result"
    }
   ],
   "source": [
    "predict(\"SD Belajar Matematika Dasar\")"
   ]
  },
  {
   "cell_type": "code",
   "execution_count": 116,
   "metadata": {},
   "outputs": [
    {
     "name": "stderr",
     "output_type": "stream",
     "text": [
      "WARNING:absl:Found untraced functions such as lstm_cell_layer_call_fn, lstm_cell_layer_call_and_return_conditional_losses, lstm_cell_layer_call_fn, lstm_cell_layer_call_and_return_conditional_losses, lstm_cell_layer_call_and_return_conditional_losses while saving (showing 5 of 5). These functions will not be directly callable after loading.\n"
     ]
    },
    {
     "name": "stdout",
     "output_type": "stream",
     "text": [
      "INFO:tensorflow:Assets written to: saved_model\\assets\n"
     ]
    },
    {
     "name": "stderr",
     "output_type": "stream",
     "text": [
      "INFO:tensorflow:Assets written to: saved_model\\assets\n"
     ]
    }
   ],
   "source": [
    "model.save('saved_model')"
   ]
  },
  {
   "cell_type": "code",
   "execution_count": 117,
   "metadata": {},
   "outputs": [
    {
     "name": "stderr",
     "output_type": "stream",
     "text": [
      "'tensorflowjs_converter' is not recognized as an internal or external command,\n",
      "operable program or batch file.\n"
     ]
    }
   ],
   "source": [
    "!tensorflowjs_converter \\\n",
    "    --input_format=keras_saved_model \\\n",
    "    ./saved_model\\\n",
    "    ./json_keras_model"
   ]
  },
  {
   "cell_type": "code",
   "execution_count": null,
   "metadata": {},
   "outputs": [],
   "source": []
  }
 ],
 "metadata": {
  "kernelspec": {
   "display_name": "Python 3",
   "language": "python",
   "name": "python3"
  },
  "language_info": {
   "codemirror_mode": {
    "name": "ipython",
    "version": 3
   },
   "file_extension": ".py",
   "mimetype": "text/x-python",
   "name": "python",
   "nbconvert_exporter": "python",
   "pygments_lexer": "ipython3",
   "version": "3.7.9"
  }
 },
 "nbformat": 4,
 "nbformat_minor": 4
}
