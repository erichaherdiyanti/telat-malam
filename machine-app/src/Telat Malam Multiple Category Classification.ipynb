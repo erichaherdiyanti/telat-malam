{
 "cells": [
  {
   "cell_type": "code",
   "execution_count": 35,
   "metadata": {},
   "outputs": [],
   "source": [
    "import os\n",
    "import numpy as np \n",
    "import pandas as pd\n",
    "from keras.layers import Dense, Embedding, LSTM, SpatialDropout1D\n",
    "from keras.models import Sequential\n",
    "from keras.preprocessing.text import Tokenizer\n",
    "from keras.preprocessing.sequence import pad_sequences\n",
    "from keras.utils.np_utils import to_categorical\n",
    "from sklearn.feature_extraction.text import CountVectorizer\n",
    "from sklearn.model_selection import train_test_split\n",
    "\n",
    "import matplotlib.pyplot as plt\n",
    "%matplotlib inline"
   ]
  },
  {
   "cell_type": "code",
   "execution_count": 36,
   "metadata": {},
   "outputs": [],
   "source": [
    "CURRENT_DIR = os.getcwd()\n",
    "BASE_DIR = os.path.dirname(CURRENT_DIR)\n",
    "data_dir = os.path.join(BASE_DIR, 'data')\n",
    "\n",
    "dataset_path = os.path.join(data_dir, 'telatmalambaru3.csv')\n",
    "DEFAULT_MODEL_NAME = 'multi'"
   ]
  },
  {
   "cell_type": "code",
   "execution_count": 37,
   "metadata": {},
   "outputs": [
    {
     "data": {
      "text/html": [
       "<div>\n",
       "<style scoped>\n",
       "    .dataframe tbody tr th:only-of-type {\n",
       "        vertical-align: middle;\n",
       "    }\n",
       "\n",
       "    .dataframe tbody tr th {\n",
       "        vertical-align: top;\n",
       "    }\n",
       "\n",
       "    .dataframe thead th {\n",
       "        text-align: right;\n",
       "    }\n",
       "</style>\n",
       "<table border=\"1\" class=\"dataframe\">\n",
       "  <thead>\n",
       "    <tr style=\"text-align: right;\">\n",
       "      <th></th>\n",
       "      <th>TITLE</th>\n",
       "      <th>CATEGORY</th>\n",
       "    </tr>\n",
       "  </thead>\n",
       "  <tbody>\n",
       "    <tr>\n",
       "      <th>0</th>\n",
       "      <td>SMP Matematika Bilangan</td>\n",
       "      <td>p</td>\n",
       "    </tr>\n",
       "    <tr>\n",
       "      <th>1</th>\n",
       "      <td>SMP Matematika Himpunan</td>\n",
       "      <td>p</td>\n",
       "    </tr>\n",
       "    <tr>\n",
       "      <th>2</th>\n",
       "      <td>SMP Matematika Bentuk Aljabar dan Operasinya</td>\n",
       "      <td>p</td>\n",
       "    </tr>\n",
       "    <tr>\n",
       "      <th>3</th>\n",
       "      <td>SMP Matematika Persamaan dan Pertidaksamaan Li...</td>\n",
       "      <td>p</td>\n",
       "    </tr>\n",
       "    <tr>\n",
       "      <th>4</th>\n",
       "      <td>SMP Matematika Perbandingan</td>\n",
       "      <td>p</td>\n",
       "    </tr>\n",
       "  </tbody>\n",
       "</table>\n",
       "</div>"
      ],
      "text/plain": [
       "                                               TITLE CATEGORY\n",
       "0                            SMP Matematika Bilangan        p\n",
       "1                            SMP Matematika Himpunan        p\n",
       "2       SMP Matematika Bentuk Aljabar dan Operasinya        p\n",
       "3  SMP Matematika Persamaan dan Pertidaksamaan Li...        p\n",
       "4                        SMP Matematika Perbandingan        p"
      ]
     },
     "execution_count": 37,
     "metadata": {},
     "output_type": "execute_result"
    }
   ],
   "source": [
    "df = pd.read_csv(dataset_path, usecols=['TITLE', 'CATEGORY'])\n",
    "df.head()"
   ]
  },
  {
   "cell_type": "code",
   "execution_count": 38,
   "metadata": {},
   "outputs": [
    {
     "data": {
      "text/plain": [
       "SMP Bahasa Indonesia Buku Fiksi dan Nonfiksi                      4\n",
       "SMA Matematika Peminatan Eksponen                                 2\n",
       "SMA Matematika Peminatan Persamaan Lingkaran                      2\n",
       "SMP Bahasa Indonesia Teks Cerita Inspiratif                       2\n",
       "SMP Bahasa Indonesia Teks Ulasan                                  2\n",
       "SMA Matematika Peminatan Pertidaksamaan Eksponen dan Logaritma    2\n",
       "SMP Matematika Himpunan                                           2\n",
       "SMA Matematika Wajib Perbandingan Trigonometri                    2\n",
       "SMP Bahasa Indonesia Teks Diskusi                                 2\n",
       "SMP Bahasa Indonesia Teks Iklan, Slogan, dan Poster               2\n",
       "Name: TITLE, dtype: int64"
      ]
     },
     "execution_count": 38,
     "metadata": {},
     "output_type": "execute_result"
    }
   ],
   "source": [
    "duplicate_title_distribution = df.TITLE.value_counts()[:10]\n",
    "duplicate_title_distribution"
   ]
  },
  {
   "cell_type": "code",
   "execution_count": 39,
   "metadata": {},
   "outputs": [
    {
     "data": {
      "text/plain": [
       "'SMP Bahasa Indonesia Buku Fiksi dan Nonfiksi'"
      ]
     },
     "execution_count": 39,
     "metadata": {},
     "output_type": "execute_result"
    }
   ],
   "source": [
    "most_common_title = duplicate_title_distribution.index[0]\n",
    "most_common_title"
   ]
  },
  {
   "cell_type": "code",
   "execution_count": 40,
   "metadata": {},
   "outputs": [
    {
     "data": {
      "text/html": [
       "<div>\n",
       "<style scoped>\n",
       "    .dataframe tbody tr th:only-of-type {\n",
       "        vertical-align: middle;\n",
       "    }\n",
       "\n",
       "    .dataframe tbody tr th {\n",
       "        vertical-align: top;\n",
       "    }\n",
       "\n",
       "    .dataframe thead th {\n",
       "        text-align: right;\n",
       "    }\n",
       "</style>\n",
       "<table border=\"1\" class=\"dataframe\">\n",
       "  <thead>\n",
       "    <tr style=\"text-align: right;\">\n",
       "      <th></th>\n",
       "      <th>TITLE</th>\n",
       "      <th>CATEGORY</th>\n",
       "    </tr>\n",
       "  </thead>\n",
       "  <tbody>\n",
       "    <tr>\n",
       "      <th>126</th>\n",
       "      <td>SMP Bahasa Indonesia Buku Fiksi dan Nonfiksi</td>\n",
       "      <td>p</td>\n",
       "    </tr>\n",
       "    <tr>\n",
       "      <th>127</th>\n",
       "      <td>SMP Bahasa Indonesia Buku Fiksi dan Nonfiksi</td>\n",
       "      <td>p</td>\n",
       "    </tr>\n",
       "    <tr>\n",
       "      <th>138</th>\n",
       "      <td>SMP Bahasa Indonesia Buku Fiksi dan Nonfiksi</td>\n",
       "      <td>p</td>\n",
       "    </tr>\n",
       "    <tr>\n",
       "      <th>139</th>\n",
       "      <td>SMP Bahasa Indonesia Buku Fiksi dan Nonfiksi</td>\n",
       "      <td>p</td>\n",
       "    </tr>\n",
       "  </tbody>\n",
       "</table>\n",
       "</div>"
      ],
      "text/plain": [
       "                                            TITLE CATEGORY\n",
       "126  SMP Bahasa Indonesia Buku Fiksi dan Nonfiksi        p\n",
       "127  SMP Bahasa Indonesia Buku Fiksi dan Nonfiksi        p\n",
       "138  SMP Bahasa Indonesia Buku Fiksi dan Nonfiksi        p\n",
       "139  SMP Bahasa Indonesia Buku Fiksi dan Nonfiksi        p"
      ]
     },
     "execution_count": 40,
     "metadata": {},
     "output_type": "execute_result"
    }
   ],
   "source": [
    "df[df['TITLE'].str.contains(most_common_title)][:5]"
   ]
  },
  {
   "cell_type": "code",
   "execution_count": 41,
   "metadata": {},
   "outputs": [
    {
     "data": {
      "text/html": [
       "<div>\n",
       "<style scoped>\n",
       "    .dataframe tbody tr th:only-of-type {\n",
       "        vertical-align: middle;\n",
       "    }\n",
       "\n",
       "    .dataframe tbody tr th {\n",
       "        vertical-align: top;\n",
       "    }\n",
       "\n",
       "    .dataframe thead th {\n",
       "        text-align: right;\n",
       "    }\n",
       "</style>\n",
       "<table border=\"1\" class=\"dataframe\">\n",
       "  <thead>\n",
       "    <tr style=\"text-align: right;\">\n",
       "      <th></th>\n",
       "      <th>TITLE</th>\n",
       "      <th>CATEGORY</th>\n",
       "    </tr>\n",
       "  </thead>\n",
       "  <tbody>\n",
       "  </tbody>\n",
       "</table>\n",
       "</div>"
      ],
      "text/plain": [
       "Empty DataFrame\n",
       "Columns: [TITLE, CATEGORY]\n",
       "Index: []"
      ]
     },
     "execution_count": 41,
     "metadata": {},
     "output_type": "execute_result"
    }
   ],
   "source": [
    "df = df.drop_duplicates(subset='TITLE', keep=False)\n",
    "df[df['TITLE'].str.contains(most_common_title)]"
   ]
  },
  {
   "cell_type": "code",
   "execution_count": 42,
   "metadata": {},
   "outputs": [
    {
     "data": {
      "text/plain": [
       "a    165\n",
       "u    142\n",
       "p    120\n",
       "s     65\n",
       "Name: CATEGORY, dtype: int64"
      ]
     },
     "execution_count": 42,
     "metadata": {},
     "output_type": "execute_result"
    }
   ],
   "source": [
    "category_dict = {\n",
    "    'p': 'smp', \n",
    "    'u': 'smaumum', \n",
    "    'a': 'smaipa', \n",
    "    's': 'smaips'\n",
    "}\n",
    "df.CATEGORY.value_counts()"
   ]
  },
  {
   "cell_type": "code",
   "execution_count": 43,
   "metadata": {},
   "outputs": [],
   "source": [
    "category_labels = {\n",
    "    'p': 'smp', \n",
    "    'u': 'smaumum', \n",
    "    'a': 'smaipa', \n",
    "    's': 'smaips'\n",
    "}"
   ]
  },
  {
   "cell_type": "code",
   "execution_count": 44,
   "metadata": {},
   "outputs": [
    {
     "data": {
      "text/html": [
       "<div>\n",
       "<style scoped>\n",
       "    .dataframe tbody tr th:only-of-type {\n",
       "        vertical-align: middle;\n",
       "    }\n",
       "\n",
       "    .dataframe tbody tr th {\n",
       "        vertical-align: top;\n",
       "    }\n",
       "\n",
       "    .dataframe thead th {\n",
       "        text-align: right;\n",
       "    }\n",
       "</style>\n",
       "<table border=\"1\" class=\"dataframe\">\n",
       "  <thead>\n",
       "    <tr style=\"text-align: right;\">\n",
       "      <th></th>\n",
       "      <th>TITLE</th>\n",
       "      <th>CATEGORY</th>\n",
       "      <th>LABEL</th>\n",
       "    </tr>\n",
       "  </thead>\n",
       "  <tbody>\n",
       "    <tr>\n",
       "      <th>220</th>\n",
       "      <td>SMA Geografi Usaha Ketahanan Pangan, Penyediaa...</td>\n",
       "      <td>s</td>\n",
       "      <td>0</td>\n",
       "    </tr>\n",
       "    <tr>\n",
       "      <th>14</th>\n",
       "      <td>SMP Bahasa Indonesia Teks Berita</td>\n",
       "      <td>p</td>\n",
       "      <td>0</td>\n",
       "    </tr>\n",
       "    <tr>\n",
       "      <th>28</th>\n",
       "      <td>SMP Matematika Bangun Ruang</td>\n",
       "      <td>p</td>\n",
       "      <td>0</td>\n",
       "    </tr>\n",
       "    <tr>\n",
       "      <th>233</th>\n",
       "      <td>SMA Geografi Pengetahuan Dasar Geografi</td>\n",
       "      <td>s</td>\n",
       "      <td>0</td>\n",
       "    </tr>\n",
       "    <tr>\n",
       "      <th>41</th>\n",
       "      <td>SMP Bahasa Inggris Family Members and Possessives</td>\n",
       "      <td>p</td>\n",
       "      <td>0</td>\n",
       "    </tr>\n",
       "  </tbody>\n",
       "</table>\n",
       "</div>"
      ],
      "text/plain": [
       "                                                 TITLE CATEGORY  LABEL\n",
       "220  SMA Geografi Usaha Ketahanan Pangan, Penyediaa...        s      0\n",
       "14                    SMP Bahasa Indonesia Teks Berita        p      0\n",
       "28                         SMP Matematika Bangun Ruang        p      0\n",
       "233            SMA Geografi Pengetahuan Dasar Geografi        s      0\n",
       "41   SMP Bahasa Inggris Family Members and Possessives        p      0"
      ]
     },
     "execution_count": 44,
     "metadata": {},
     "output_type": "execute_result"
    }
   ],
   "source": [
    "max_num_of_labels = df.CATEGORY.value_counts()[-1]\n",
    "data_df = df.copy()\n",
    "shuffled_df = data_df.reindex(np.random.permutation(data_df.index))\\\n",
    "\n",
    "p = shuffled_df[shuffled_df['CATEGORY'] == 'p'][:max_num_of_labels]\n",
    "u = shuffled_df[shuffled_df['CATEGORY'] == 'u'][:max_num_of_labels]\n",
    "a = shuffled_df[shuffled_df['CATEGORY'] == 'a'][:max_num_of_labels]\n",
    "s = shuffled_df[shuffled_df['CATEGORY'] == 's'][:max_num_of_labels]\n",
    "\n",
    "concated_df = pd.concat([p,u,a,s], ignore_index=True)\n",
    "concated_df = concated_df.reindex(np.random.permutation(concated_df.index))\n",
    "concated_df['LABEL'] = 0\n",
    "concated_df.head()"
   ]
  },
  {
   "cell_type": "code",
   "execution_count": 45,
   "metadata": {},
   "outputs": [
    {
     "name": "stdout",
     "output_type": "stream",
     "text": [
      "220    3\n",
      "14     0\n",
      "28     0\n",
      "233    3\n",
      "41     0\n",
      "49     0\n",
      "45     0\n",
      "128    1\n",
      "84     1\n",
      "111    1\n",
      "Name: LABEL, dtype: int64\n",
      "[[0. 0. 0. 1.]\n",
      " [1. 0. 0. 0.]\n",
      " [1. 0. 0. 0.]\n",
      " [0. 0. 0. 1.]\n",
      " [1. 0. 0. 0.]\n",
      " [1. 0. 0. 0.]\n",
      " [1. 0. 0. 0.]\n",
      " [0. 1. 0. 0.]\n",
      " [0. 1. 0. 0.]\n",
      " [0. 1. 0. 0.]]\n"
     ]
    },
    {
     "data": {
      "text/plain": [
       "'\\n [1. 0. 0. 0.] p\\n [0. 1. 0. 0.] u\\n [0. 0. 1. 0.] a\\n [0. 0. 0. 1.] s\\n'"
      ]
     },
     "execution_count": 45,
     "metadata": {},
     "output_type": "execute_result"
    }
   ],
   "source": [
    "concated_df.loc[concated_df['CATEGORY'] == 'p', 'LABEL'] = 0\n",
    "concated_df.loc[concated_df['CATEGORY'] == 'u', 'LABEL'] = 1\n",
    "concated_df.loc[concated_df['CATEGORY'] == 'a', 'LABEL'] = 2\n",
    "concated_df.loc[concated_df['CATEGORY'] == 's', 'LABEL'] = 3\n",
    "print(concated_df['LABEL'][:10])\n",
    "labels = to_categorical(concated_df['LABEL'], num_classes=4)\n",
    "print(labels[:10])\n",
    "if 'CATEGORY' in concated_df.keys():\n",
    "    concated_df = concated_df.drop(['CATEGORY'], axis=1)\n",
    "'''\n",
    " [1. 0. 0. 0.] p\n",
    " [0. 1. 0. 0.] u\n",
    " [0. 0. 1. 0.] a\n",
    " [0. 0. 0. 1.] s\n",
    "'''"
   ]
  },
  {
   "cell_type": "code",
   "execution_count": 46,
   "metadata": {},
   "outputs": [
    {
     "data": {
      "text/html": [
       "<div>\n",
       "<style scoped>\n",
       "    .dataframe tbody tr th:only-of-type {\n",
       "        vertical-align: middle;\n",
       "    }\n",
       "\n",
       "    .dataframe tbody tr th {\n",
       "        vertical-align: top;\n",
       "    }\n",
       "\n",
       "    .dataframe thead th {\n",
       "        text-align: right;\n",
       "    }\n",
       "</style>\n",
       "<table border=\"1\" class=\"dataframe\">\n",
       "  <thead>\n",
       "    <tr style=\"text-align: right;\">\n",
       "      <th></th>\n",
       "      <th>TITLE</th>\n",
       "      <th>LABEL</th>\n",
       "    </tr>\n",
       "  </thead>\n",
       "  <tbody>\n",
       "    <tr>\n",
       "      <th>220</th>\n",
       "      <td>SMA Geografi Usaha Ketahanan Pangan, Penyediaa...</td>\n",
       "      <td>3</td>\n",
       "    </tr>\n",
       "    <tr>\n",
       "      <th>14</th>\n",
       "      <td>SMP Bahasa Indonesia Teks Berita</td>\n",
       "      <td>0</td>\n",
       "    </tr>\n",
       "    <tr>\n",
       "      <th>28</th>\n",
       "      <td>SMP Matematika Bangun Ruang</td>\n",
       "      <td>0</td>\n",
       "    </tr>\n",
       "    <tr>\n",
       "      <th>233</th>\n",
       "      <td>SMA Geografi Pengetahuan Dasar Geografi</td>\n",
       "      <td>3</td>\n",
       "    </tr>\n",
       "    <tr>\n",
       "      <th>41</th>\n",
       "      <td>SMP Bahasa Inggris Family Members and Possessives</td>\n",
       "      <td>0</td>\n",
       "    </tr>\n",
       "  </tbody>\n",
       "</table>\n",
       "</div>"
      ],
      "text/plain": [
       "                                                 TITLE  LABEL\n",
       "220  SMA Geografi Usaha Ketahanan Pangan, Penyediaa...      3\n",
       "14                    SMP Bahasa Indonesia Teks Berita      0\n",
       "28                         SMP Matematika Bangun Ruang      0\n",
       "233            SMA Geografi Pengetahuan Dasar Geografi      3\n",
       "41   SMP Bahasa Inggris Family Members and Possessives      0"
      ]
     },
     "execution_count": 46,
     "metadata": {},
     "output_type": "execute_result"
    }
   ],
   "source": [
    "concated_df.head()"
   ]
  },
  {
   "cell_type": "code",
   "execution_count": 47,
   "metadata": {},
   "outputs": [],
   "source": [
    "n_most_common_words = 8000\n",
    "max_len = 130\n",
    "token_filter = '!\"#$%&()*+,-./:;<=>?@[\\]^_`{|}~'\n",
    "tokenizer = Tokenizer(num_words=n_most_common_words, filters=token_filter, lower=True)\n",
    "tokenizer.fit_on_texts(concated_df['TITLE'].values)"
   ]
  },
  {
   "cell_type": "code",
   "execution_count": 48,
   "metadata": {},
   "outputs": [
    {
     "name": "stdout",
     "output_type": "stream",
     "text": [
      "Found 478 unique tokens.\n"
     ]
    }
   ],
   "source": [
    "sequences = tokenizer.texts_to_sequences(concated_df['TITLE'].values)\n",
    "word_index = tokenizer.word_index\n",
    "print('Found %s unique tokens.' % len(word_index))"
   ]
  },
  {
   "cell_type": "code",
   "execution_count": 49,
   "metadata": {},
   "outputs": [],
   "source": [
    "X = pad_sequences(sequences, maxlen=max_len)"
   ]
  },
  {
   "cell_type": "code",
   "execution_count": 50,
   "metadata": {},
   "outputs": [],
   "source": [
    "X_train, X_test, y_train, y_test = train_test_split(X , labels, test_size=0.25, random_state=42)"
   ]
  },
  {
   "cell_type": "code",
   "execution_count": 51,
   "metadata": {},
   "outputs": [
    {
     "data": {
      "text/plain": [
       "array([[0., 0., 0., 1.],\n",
       "       [1., 0., 0., 0.]], dtype=float32)"
      ]
     },
     "execution_count": 51,
     "metadata": {},
     "output_type": "execute_result"
    }
   ],
   "source": [
    "epochs = 50\n",
    "emb_dim = 200\n",
    "batch_size = 256\n",
    "labels[:2]"
   ]
  },
  {
   "cell_type": "code",
   "execution_count": 52,
   "metadata": {},
   "outputs": [
    {
     "name": "stdout",
     "output_type": "stream",
     "text": [
      "((195, 130), (195, 4), (65, 130), (65, 4))\n"
     ]
    }
   ],
   "source": [
    "print((X_train.shape, y_train.shape, X_test.shape, y_test.shape))"
   ]
  },
  {
   "cell_type": "code",
   "execution_count": 53,
   "metadata": {},
   "outputs": [
    {
     "name": "stdout",
     "output_type": "stream",
     "text": [
      "Model: \"sequential_1\"\n",
      "_________________________________________________________________\n",
      "Layer (type)                 Output Shape              Param #   \n",
      "=================================================================\n",
      "embedding_1 (Embedding)      (None, 130, 200)          1600000   \n",
      "_________________________________________________________________\n",
      "spatial_dropout1d_1 (Spatial (None, 130, 200)          0         \n",
      "_________________________________________________________________\n",
      "lstm_1 (LSTM)                (None, 64)                67840     \n",
      "_________________________________________________________________\n",
      "dense_1 (Dense)              (None, 4)                 260       \n",
      "=================================================================\n",
      "Total params: 1,668,100\n",
      "Trainable params: 1,668,100\n",
      "Non-trainable params: 0\n",
      "_________________________________________________________________\n",
      "None\n"
     ]
    }
   ],
   "source": [
    "model = Sequential()\n",
    "model.add(Embedding(n_most_common_words, emb_dim, input_length=X.shape[1]))\n",
    "model.add(SpatialDropout1D(0.7))\n",
    "model.add(LSTM(64, dropout=0.7, recurrent_dropout=0.7))\n",
    "model.add(Dense(4, activation='softmax'))\n",
    "model.compile(optimizer='adam', loss='categorical_crossentropy', metrics=['accuracy'])\n",
    "print(model.summary())"
   ]
  },
  {
   "cell_type": "code",
   "execution_count": 54,
   "metadata": {},
   "outputs": [
    {
     "name": "stdout",
     "output_type": "stream",
     "text": [
      "Epoch 1/50\n",
      "1/1 [==============================] - 7s 7s/step - loss: 1.3928 - accuracy: 0.1795 - val_loss: 1.3863 - val_accuracy: 0.2308\n",
      "Epoch 2/50\n",
      "1/1 [==============================] - 1s 909ms/step - loss: 1.3908 - accuracy: 0.2244 - val_loss: 1.3841 - val_accuracy: 0.2821\n",
      "Epoch 3/50\n",
      "1/1 [==============================] - 1s 998ms/step - loss: 1.3885 - accuracy: 0.2692 - val_loss: 1.3822 - val_accuracy: 0.2564\n",
      "Epoch 4/50\n",
      "1/1 [==============================] - 1s 1s/step - loss: 1.3810 - accuracy: 0.2756 - val_loss: 1.3802 - val_accuracy: 0.2308\n",
      "Epoch 5/50\n",
      "1/1 [==============================] - 1s 1s/step - loss: 1.3708 - accuracy: 0.3590 - val_loss: 1.3783 - val_accuracy: 0.2308\n",
      "Epoch 6/50\n",
      "1/1 [==============================] - 1s 961ms/step - loss: 1.3714 - accuracy: 0.3077 - val_loss: 1.3765 - val_accuracy: 0.2308\n",
      "Epoch 7/50\n",
      "1/1 [==============================] - 1s 1s/step - loss: 1.3669 - accuracy: 0.3462 - val_loss: 1.3747 - val_accuracy: 0.2308\n",
      "Epoch 8/50\n",
      "1/1 [==============================] - 1s 932ms/step - loss: 1.3568 - accuracy: 0.3590 - val_loss: 1.3729 - val_accuracy: 0.2308\n",
      "Epoch 9/50\n",
      "1/1 [==============================] - 1s 1s/step - loss: 1.3521 - accuracy: 0.3654 - val_loss: 1.3710 - val_accuracy: 0.2308\n",
      "Epoch 10/50\n",
      "1/1 [==============================] - 1s 1s/step - loss: 1.3539 - accuracy: 0.3205 - val_loss: 1.3690 - val_accuracy: 0.2308\n",
      "Epoch 11/50\n",
      "1/1 [==============================] - 1s 1s/step - loss: 1.3457 - accuracy: 0.3590 - val_loss: 1.3668 - val_accuracy: 0.2308\n",
      "Epoch 12/50\n",
      "1/1 [==============================] - 1s 1s/step - loss: 1.3380 - accuracy: 0.3846 - val_loss: 1.3644 - val_accuracy: 0.2308\n",
      "Epoch 13/50\n",
      "1/1 [==============================] - 1s 984ms/step - loss: 1.3358 - accuracy: 0.3526 - val_loss: 1.3619 - val_accuracy: 0.2308\n",
      "Epoch 14/50\n",
      "1/1 [==============================] - 1s 983ms/step - loss: 1.3301 - accuracy: 0.4038 - val_loss: 1.3589 - val_accuracy: 0.2308\n",
      "Epoch 15/50\n",
      "1/1 [==============================] - 1s 983ms/step - loss: 1.3171 - accuracy: 0.4038 - val_loss: 1.3554 - val_accuracy: 0.2308\n",
      "Epoch 16/50\n",
      "1/1 [==============================] - 1s 1s/step - loss: 1.3098 - accuracy: 0.3782 - val_loss: 1.3515 - val_accuracy: 0.2308\n",
      "Epoch 17/50\n",
      "1/1 [==============================] - 1s 1s/step - loss: 1.3046 - accuracy: 0.3974 - val_loss: 1.3470 - val_accuracy: 0.2308\n",
      "Epoch 18/50\n",
      "1/1 [==============================] - 1s 901ms/step - loss: 1.2917 - accuracy: 0.4038 - val_loss: 1.3420 - val_accuracy: 0.2308\n",
      "Epoch 19/50\n",
      "1/1 [==============================] - 1s 917ms/step - loss: 1.2944 - accuracy: 0.4167 - val_loss: 1.3361 - val_accuracy: 0.2821\n",
      "Epoch 20/50\n",
      "1/1 [==============================] - 1s 919ms/step - loss: 1.2846 - accuracy: 0.4103 - val_loss: 1.3293 - val_accuracy: 0.2821\n",
      "Epoch 21/50\n",
      "1/1 [==============================] - 1s 899ms/step - loss: 1.2686 - accuracy: 0.4551 - val_loss: 1.3216 - val_accuracy: 0.2821\n",
      "Epoch 22/50\n",
      "1/1 [==============================] - 1s 934ms/step - loss: 1.2636 - accuracy: 0.4423 - val_loss: 1.3130 - val_accuracy: 0.2821\n",
      "Epoch 23/50\n",
      "1/1 [==============================] - 1s 935ms/step - loss: 1.2348 - accuracy: 0.4359 - val_loss: 1.3032 - val_accuracy: 0.2821\n",
      "Epoch 24/50\n",
      "1/1 [==============================] - 1s 1s/step - loss: 1.2438 - accuracy: 0.4551 - val_loss: 1.2923 - val_accuracy: 0.2821\n",
      "Epoch 25/50\n",
      "1/1 [==============================] - 1s 1s/step - loss: 1.2264 - accuracy: 0.4936 - val_loss: 1.2799 - val_accuracy: 0.2821\n",
      "Epoch 26/50\n",
      "1/1 [==============================] - 1s 1s/step - loss: 1.2020 - accuracy: 0.5321 - val_loss: 1.2664 - val_accuracy: 0.3333\n",
      "Epoch 27/50\n",
      "1/1 [==============================] - 1s 1s/step - loss: 1.1767 - accuracy: 0.5897 - val_loss: 1.2518 - val_accuracy: 0.3590\n",
      "Epoch 28/50\n",
      "1/1 [==============================] - 1s 1s/step - loss: 1.1874 - accuracy: 0.5769 - val_loss: 1.2348 - val_accuracy: 0.4615\n",
      "Epoch 29/50\n",
      "1/1 [==============================] - 1s 1s/step - loss: 1.1615 - accuracy: 0.6090 - val_loss: 1.2160 - val_accuracy: 0.4615\n",
      "Epoch 30/50\n",
      "1/1 [==============================] - 1s 1s/step - loss: 1.1255 - accuracy: 0.6667 - val_loss: 1.1955 - val_accuracy: 0.4872\n",
      "Epoch 31/50\n",
      "1/1 [==============================] - 1s 1s/step - loss: 1.1255 - accuracy: 0.6987 - val_loss: 1.1734 - val_accuracy: 0.5128\n",
      "Epoch 32/50\n",
      "1/1 [==============================] - 1s 1s/step - loss: 1.0756 - accuracy: 0.7115 - val_loss: 1.1489 - val_accuracy: 0.5641\n",
      "Epoch 33/50\n",
      "1/1 [==============================] - 1s 1s/step - loss: 1.0832 - accuracy: 0.6923 - val_loss: 1.1233 - val_accuracy: 0.5897\n",
      "Epoch 34/50\n",
      "1/1 [==============================] - 1s 978ms/step - loss: 1.0421 - accuracy: 0.7115 - val_loss: 1.0958 - val_accuracy: 0.5897\n",
      "Epoch 35/50\n",
      "1/1 [==============================] - 1s 946ms/step - loss: 1.0269 - accuracy: 0.7244 - val_loss: 1.0672 - val_accuracy: 0.6154\n",
      "Epoch 36/50\n",
      "1/1 [==============================] - 1s 932ms/step - loss: 1.0215 - accuracy: 0.7564 - val_loss: 1.0358 - val_accuracy: 0.6667\n",
      "Epoch 37/50\n",
      "1/1 [==============================] - 1s 1s/step - loss: 0.9987 - accuracy: 0.7756 - val_loss: 1.0050 - val_accuracy: 0.7436\n",
      "Epoch 38/50\n",
      "1/1 [==============================] - 1s 937ms/step - loss: 0.9170 - accuracy: 0.8269 - val_loss: 0.9743 - val_accuracy: 0.7692\n",
      "Epoch 39/50\n",
      "1/1 [==============================] - 1s 987ms/step - loss: 0.9328 - accuracy: 0.8205 - val_loss: 0.9437 - val_accuracy: 0.7949\n",
      "Epoch 40/50\n",
      "1/1 [==============================] - 1s 1s/step - loss: 0.8743 - accuracy: 0.8526 - val_loss: 0.9103 - val_accuracy: 0.7949\n",
      "Epoch 41/50\n",
      "1/1 [==============================] - 1s 980ms/step - loss: 0.8499 - accuracy: 0.8462 - val_loss: 0.8778 - val_accuracy: 0.7949\n",
      "Epoch 42/50\n",
      "1/1 [==============================] - 1s 1s/step - loss: 0.8221 - accuracy: 0.8205 - val_loss: 0.8494 - val_accuracy: 0.8205\n",
      "Epoch 43/50\n",
      "1/1 [==============================] - 1s 997ms/step - loss: 0.7834 - accuracy: 0.8718 - val_loss: 0.8222 - val_accuracy: 0.8462\n",
      "Epoch 44/50\n",
      "1/1 [==============================] - 1s 982ms/step - loss: 0.7600 - accuracy: 0.8462 - val_loss: 0.7868 - val_accuracy: 0.9231\n",
      "Epoch 45/50\n",
      "1/1 [==============================] - 1s 1s/step - loss: 0.7448 - accuracy: 0.8974 - val_loss: 0.7483 - val_accuracy: 0.9231\n",
      "Epoch 46/50\n",
      "1/1 [==============================] - 1s 1s/step - loss: 0.6921 - accuracy: 0.9167 - val_loss: 0.7099 - val_accuracy: 0.8974\n",
      "Epoch 47/50\n",
      "1/1 [==============================] - 1s 1s/step - loss: 0.6525 - accuracy: 0.9103 - val_loss: 0.6714 - val_accuracy: 0.8974\n",
      "Epoch 48/50\n",
      "1/1 [==============================] - 1s 1s/step - loss: 0.6538 - accuracy: 0.9231 - val_loss: 0.6343 - val_accuracy: 0.9231\n",
      "Epoch 49/50\n",
      "1/1 [==============================] - 1s 993ms/step - loss: 0.6026 - accuracy: 0.8846 - val_loss: 0.5957 - val_accuracy: 0.9231\n",
      "Epoch 50/50\n",
      "1/1 [==============================] - 1s 1s/step - loss: 0.5280 - accuracy: 0.9359 - val_loss: 0.5627 - val_accuracy: 0.9487\n"
     ]
    }
   ],
   "source": [
    "training = model.fit(X_train, y_train, epochs=epochs, batch_size=batch_size,validation_split=0.2)"
   ]
  },
  {
   "cell_type": "code",
   "execution_count": 55,
   "metadata": {},
   "outputs": [
    {
     "name": "stdout",
     "output_type": "stream",
     "text": [
      "3/3 [==============================] - 0s 36ms/step - loss: 0.6354 - accuracy: 0.9077\n",
      "Test set\n",
      "  Loss: 0.635\n",
      "  Accuracy: 0.908\n"
     ]
    }
   ],
   "source": [
    "accr = model.evaluate(X_test, y_test)\n",
    "print('Test set\\n  Loss: {:0.3f}\\n  Accuracy: {:0.3f}'.format(accr[0],accr[1]))"
   ]
  },
  {
   "cell_type": "code",
   "execution_count": 56,
   "metadata": {},
   "outputs": [],
   "source": [
    "accuracy = training.history['accuracy']\n",
    "val_accuracy = training.history['val_accuracy']\n",
    "loss = training.history['loss']\n",
    "val_loss = training.history['val_loss']"
   ]
  },
  {
   "cell_type": "code",
   "execution_count": 57,
   "metadata": {},
   "outputs": [
    {
     "data": {
      "image/png": "[encoded data removed]",
      "text/plain": [
       "<Figure size 432x288 with 1 Axes>"
      ]
     },
     "metadata": {
      "needs_background": "light"
     },
     "output_type": "display_data"
    },
    {
     "data": {
      "image/png": "[encoded data removed]",
      "text/plain": [
       "<Figure size 432x288 with 1 Axes>"
      ]
     },
     "metadata": {
      "needs_background": "light"
     },
     "output_type": "display_data"
    }
   ],
   "source": [
    "epochs = range(1, len(accuracy) + 1)\n",
    "\n",
    "plt.plot(epochs, accuracy, 'bo', label='Training accuracy')\n",
    "plt.plot(epochs, val_accuracy, 'b', label='Validation accuracy')\n",
    "plt.title('Training and validation accuracy')\n",
    "plt.legend()\n",
    "\n",
    "plt.figure()\n",
    "\n",
    "plt.plot(epochs, loss, 'bo', label='Training loss')\n",
    "plt.plot(epochs, val_loss, 'b', label='Validation loss')\n",
    "plt.title('Training and validation loss')\n",
    "plt.legend()\n",
    "\n",
    "plt.show()"
   ]
  },
  {
   "cell_type": "code",
   "execution_count": 58,
   "metadata": {},
   "outputs": [
    {
     "name": "stdout",
     "output_type": "stream",
     "text": [
      "[[0.4312568  0.23268875 0.1925935  0.14346093]] smp\n"
     ]
    }
   ],
   "source": [
    "txt = [\"SMP Matematika Peluang\"]\n",
    "seq = tokenizer.texts_to_sequences(txt)\n",
    "padded = pad_sequences(seq, maxlen=max_len)\n",
    "pred = model.predict(padded)\n",
    "labels = ['smp', 'smaumum', 'smaipa', 'smaips']\n",
    "print(pred, labels[np.argmax(pred)])"
   ]
  },
  {
   "cell_type": "code",
   "execution_count": null,
   "metadata": {},
   "outputs": [],
   "source": []
  },
  {
   "cell_type": "code",
   "execution_count": 59,
   "metadata": {},
   "outputs": [],
   "source": [
    "def extract_label(index):\n",
    "    '''\n",
    "    The labels correspond to exact label indices, in other words, the \n",
    "    order is absolutely important.\n",
    "    '''\n",
    "    labels = ['smp', 'smaumum', 'smaipa', 'smaips']\n",
    "    return labels[index]"
   ]
  },
  {
   "cell_type": "code",
   "execution_count": 60,
   "metadata": {},
   "outputs": [],
   "source": [
    "def predict(text, model_klass=model):\n",
    "    seq = tokenizer.texts_to_sequences([text])\n",
    "    padded = pad_sequences(seq, maxlen=max_len)\n",
    "    pred = model_klass.predict(padded)\n",
    "    top_prediction_index = np.argmax(pred)\n",
    "    predicted_label = extract_label(top_prediction_index)\n",
    "    predictions = pred.tolist()[0]\n",
    "    extracted_predictions = [{extract_label(i):\"%.2f%%\"%(x*100)} for i, x in enumerate(predictions)]\n",
    "    top_percent = \"%.2f%%\"% (predictions[top_prediction_index] * 100)\n",
    "    print(f\"{text}\\t\\t{top_percent} {predicted_label}\")\n",
    "    return extracted_predictions"
   ]
  },
  {
   "cell_type": "code",
   "execution_count": 61,
   "metadata": {},
   "outputs": [
    {
     "name": "stdout",
     "output_type": "stream",
     "text": [
      "SMA Fisika Kimia Biologi\t\t92.18% smaipa\n"
     ]
    },
    {
     "data": {
      "text/plain": [
       "[{'smp': '0.76%'},\n",
       " {'smaumum': '2.46%'},\n",
       " {'smaipa': '92.18%'},\n",
       " {'smaips': '4.60%'}]"
      ]
     },
     "execution_count": 61,
     "metadata": {},
     "output_type": "execute_result"
    }
   ],
   "source": [
    "predict(\"SMA Fisika Kimia Biologi\")"
   ]
  },
  {
   "cell_type": "code",
   "execution_count": 62,
   "metadata": {},
   "outputs": [
    {
     "name": "stdout",
     "output_type": "stream",
     "text": [
      "SMA Bahasa Inggris Bahasa Indonesia Matematika Wajib\t\t59.00% smaumum\n"
     ]
    },
    {
     "data": {
      "text/plain": [
       "[{'smp': '26.52%'},\n",
       " {'smaumum': '59.00%'},\n",
       " {'smaipa': '7.21%'},\n",
       " {'smaips': '7.27%'}]"
      ]
     },
     "execution_count": 62,
     "metadata": {},
     "output_type": "execute_result"
    }
   ],
   "source": [
    "predict(\"SMA Bahasa Inggris Bahasa Indonesia Matematika Wajib\")"
   ]
  },
  {
   "cell_type": "code",
   "execution_count": 63,
   "metadata": {},
   "outputs": [
    {
     "name": "stdout",
     "output_type": "stream",
     "text": [
      "SMA Kimia Dan Ekonomi Sosiologi\t\t61.58% smaips\n"
     ]
    },
    {
     "data": {
      "text/plain": [
       "[{'smp': '2.98%'},\n",
       " {'smaumum': '4.84%'},\n",
       " {'smaipa': '30.59%'},\n",
       " {'smaips': '61.58%'}]"
      ]
     },
     "execution_count": 63,
     "metadata": {},
     "output_type": "execute_result"
    }
   ],
   "source": [
    "predict(\"SMA Kimia Dan Ekonomi Sosiologi\")"
   ]
  },
  {
   "cell_type": "code",
   "execution_count": 64,
   "metadata": {},
   "outputs": [
    {
     "name": "stdout",
     "output_type": "stream",
     "text": [
      "Sejarah Ekonomi dan Sosiologi\t\t67.84% smaips\n"
     ]
    },
    {
     "data": {
      "text/plain": [
       "[{'smp': '12.68%'},\n",
       " {'smaumum': '6.48%'},\n",
       " {'smaipa': '12.99%'},\n",
       " {'smaips': '67.84%'}]"
      ]
     },
     "execution_count": 64,
     "metadata": {},
     "output_type": "execute_result"
    }
   ],
   "source": [
    "predict(\"Sejarah Ekonomi dan Sosiologi\")"
   ]
  },
  {
   "cell_type": "code",
   "execution_count": 65,
   "metadata": {},
   "outputs": [
    {
     "name": "stdout",
     "output_type": "stream",
     "text": [
      "Matematika Fisika Kimia Sosiologi\t\t60.19% smaipa\n"
     ]
    },
    {
     "data": {
      "text/plain": [
       "[{'smp': '7.48%'},\n",
       " {'smaumum': '11.12%'},\n",
       " {'smaipa': '60.19%'},\n",
       " {'smaips': '21.21%'}]"
      ]
     },
     "execution_count": 65,
     "metadata": {},
     "output_type": "execute_result"
    }
   ],
   "source": [
    "predict(\"Matematika Fisika Kimia Sosiologi\")"
   ]
  },
  {
   "cell_type": "code",
   "execution_count": 66,
   "metadata": {},
   "outputs": [
    {
     "name": "stdout",
     "output_type": "stream",
     "text": [
      "SD Belajar Matematika Dasar\t\t44.81% smaipa\n"
     ]
    },
    {
     "data": {
      "text/plain": [
       "[{'smp': '14.59%'},\n",
       " {'smaumum': '25.21%'},\n",
       " {'smaipa': '44.81%'},\n",
       " {'smaips': '15.39%'}]"
      ]
     },
     "execution_count": 66,
     "metadata": {},
     "output_type": "execute_result"
    }
   ],
   "source": [
    "predict(\"SD Belajar Matematika Dasar\")"
   ]
  },
  {
   "cell_type": "code",
   "execution_count": 67,
   "metadata": {},
   "outputs": [
    {
     "name": "stdout",
     "output_type": "stream",
     "text": [
      "INFO:tensorflow:Assets written to: saved_model\\assets\n"
     ]
    }
   ],
   "source": [
    "model.save('saved_model')"
   ]
  },
  {
   "cell_type": "code",
   "execution_count": 34,
   "metadata": {},
   "outputs": [
    {
     "name": "stderr",
     "output_type": "stream",
     "text": [
      "2021-06-07 18:22:23.274460: W tensorflow/stream_executor/platform/default/dso_loader.cc:60] Could not load dynamic library 'cudart64_110.dll'; dlerror: cudart64_110.dll not found\n",
      "2021-06-07 18:22:23.274521: I tensorflow/stream_executor/cuda/cudart_stub.cc:29] Ignore above cudart dlerror if you do not have a GPU set up on your machine.\n",
      "2021-06-07 18:22:30.864902: I tensorflow/compiler/jit/xla_cpu_device.cc:41] Not creating XLA devices, tf_xla_enable_xla_devices not set\n",
      "2021-06-07 18:22:30.867588: I tensorflow/stream_executor/platform/default/dso_loader.cc:49] Successfully opened dynamic library nvcuda.dll\n",
      "2021-06-07 18:22:31.191680: I tensorflow/core/common_runtime/gpu/gpu_device.cc:1720] Found device 0 with properties: \n",
      "pciBusID: 0000:04:00.0 name: GeForce 920M computeCapability: 3.5\n",
      "coreClock: 0.954GHz coreCount: 2 deviceMemorySize: 2.00GiB deviceMemoryBandwidth: 13.41GiB/s\n",
      "2021-06-07 18:22:31.192852: W tensorflow/stream_executor/platform/default/dso_loader.cc:60] Could not load dynamic library 'cudart64_110.dll'; dlerror: cudart64_110.dll not found\n",
      "2021-06-07 18:22:31.193888: W tensorflow/stream_executor/platform/default/dso_loader.cc:60] Could not load dynamic library 'cublas64_11.dll'; dlerror: cublas64_11.dll not found\n",
      "2021-06-07 18:22:31.194910: W tensorflow/stream_executor/platform/default/dso_loader.cc:60] Could not load dynamic library 'cublasLt64_11.dll'; dlerror: cublasLt64_11.dll not found\n",
      "2021-06-07 18:22:31.196029: W tensorflow/stream_executor/platform/default/dso_loader.cc:60] Could not load dynamic library 'cufft64_10.dll'; dlerror: cufft64_10.dll not found\n",
      "2021-06-07 18:22:31.197050: W tensorflow/stream_executor/platform/default/dso_loader.cc:60] Could not load dynamic library 'curand64_10.dll'; dlerror: curand64_10.dll not found\n",
      "2021-06-07 18:22:31.198060: W tensorflow/stream_executor/platform/default/dso_loader.cc:60] Could not load dynamic library 'cusolver64_10.dll'; dlerror: cusolver64_10.dll not found\n",
      "2021-06-07 18:22:31.199070: W tensorflow/stream_executor/platform/default/dso_loader.cc:60] Could not load dynamic library 'cusparse64_11.dll'; dlerror: cusparse64_11.dll not found\n",
      "2021-06-07 18:22:31.200078: W tensorflow/stream_executor/platform/default/dso_loader.cc:60] Could not load dynamic library 'cudnn64_8.dll'; dlerror: cudnn64_8.dll not found\n",
      "2021-06-07 18:22:31.200095: W tensorflow/core/common_runtime/gpu/gpu_device.cc:1757] Cannot dlopen some GPU libraries. Please make sure the missing libraries mentioned above are installed properly if you would like to use GPU. Follow the guide at https://www.tensorflow.org/install/gpu for how to download and setup the required libraries for your platform.\n",
      "Skipping registering GPU devices...\n",
      "2021-06-07 18:22:31.268636: I tensorflow/core/platform/cpu_feature_guard.cc:142] This TensorFlow binary is optimized with oneAPI Deep Neural Network Library (oneDNN) to use the following CPU instructions in performance-critical operations:  AVX2\n",
      "To enable them in other operations, rebuild TensorFlow with the appropriate compiler flags.\n",
      "2021-06-07 18:22:31.269104: I tensorflow/core/common_runtime/gpu/gpu_device.cc:1261] Device interconnect StreamExecutor with strength 1 edge matrix:\n",
      "2021-06-07 18:22:31.269126: I tensorflow/core/common_runtime/gpu/gpu_device.cc:1267]      \n",
      "2021-06-07 18:22:31.269152: I tensorflow/compiler/jit/xla_gpu_device.cc:99] Not creating XLA devices, tf_xla_enable_xla_devices not set\n",
      "2021-06-07 18:22:34.213171: I tensorflow/core/common_runtime/gpu/gpu_device.cc:1261] Device interconnect StreamExecutor with strength 1 edge matrix:\n",
      "2021-06-07 18:22:34.213200: I tensorflow/core/common_runtime/gpu/gpu_device.cc:1267]      \n",
      "2021-06-07 18:22:34.213212: I tensorflow/compiler/jit/xla_gpu_device.cc:99] Not creating XLA devices, tf_xla_enable_xla_devices not set\n",
      "2021-06-07 18:22:44.585296: I tensorflow/compiler/mlir/mlir_graph_optimization_pass.cc:196] None of the MLIR optimization passes are enabled (registered 0 passes)\n"
     ]
    }
   ],
   "source": [
    "!tensorflowjs_converter \\\n",
    "    --input_format=keras_saved_model \\\n",
    "    ./saved_model\\\n",
    "    ./json_keras_model"
   ]
  },
  {
   "cell_type": "code",
   "execution_count": null,
   "metadata": {},
   "outputs": [],
   "source": []
  }
 ],
 "metadata": {
  "kernelspec": {
   "display_name": "Python 3",
   "language": "python",
   "name": "python3"
  },
  "language_info": {
   "codemirror_mode": {
    "name": "ipython",
    "version": 3
   },
   "file_extension": ".py",
   "mimetype": "text/x-python",
   "name": "python",
   "nbconvert_exporter": "python",
   "pygments_lexer": "ipython3",
   "version": "3.8.5"
  }
 },
 "nbformat": 4,
 "nbformat_minor": 4
}
